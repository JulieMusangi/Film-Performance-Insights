{
 "cells": [
  {
   "cell_type": "markdown",
   "metadata": {},
   "source": [
    "# Microsoft Film Performance Insights \n",
    "\n",
    "## Background\n",
    "\n",
    "Microsoft has observed that major companies are successfully creating original video content and capitalizing on the growing demand for streaming and theatrical releases. In response, Microsoft aims to establish a new movie studio to enter the competitive film industry. However, as a newcomer to movie production, Microsoft lacks the necessary insights into what types of films are currently thriving at the box office\n",
    "\n",
    "# Objective\n",
    "\n",
    "The primary objective of this project is to conduct an exploratory data analysis (EDA) to identify the types of films that are currently performing the best at the box office. This analysis will provide actionable insights to guide Microsoft's new movie studio in making informed decisions about the genres, themes, and characteristics of films they should focus on producing.\n",
    "\n",
    "# Scope of Analysis\n",
    "\n",
    "- Box Office Performance: Analyze the financial success of films over recent years, considering both domestic and international box office revenues.\n",
    "- Genre Analysis: Examine which genres are most popular and profitable.\n",
    "- Budget vs. Revenue: Investigate the relationship between production budgets and box office returns.\n",
    "- Release Timing: Determine the impact of release dates and seasonal trends on box office performance.\n",
    "- Audience and Critic Ratings: Assess how audience demographics, critic reviews, and ratings correlate with box office success.\n",
    "- Marketing Impact: Evaluate the role of marketing efforts in driving box office revenue.\n",
    "\n",
    "# Expected Outcomes \n",
    "\n",
    "- Genre Recommendations: Identify top-performing genres that Microsoft should consider focusing on.\n",
    "- Optimal Budget Ranges: Provide insights into budget ranges that maximize profitability.\n",
    "- Release Strategies: Recommend optimal release times to enhance box office performance.\n",
    "- Marketing Strategies: Suggest effective marketing strategies based on successful campaigns from other studios.\n",
    "- Audience Insights: Understand the target demographics for different types of films to tailor content accordingly.\n",
    "\n",
    "By addressing these key areas, the project aims to equip Microsoft with the knowledge needed to make strategic decisions in the competitive movie industry, ultimately leading to the successful launch and operation of their new movie studio\n",
    "\n",
    "\n"
   ]
  },
  {
   "cell_type": "markdown",
   "metadata": {},
   "source": [
    "## Data Description "
   ]
  },
  {
   "cell_type": "markdown",
   "metadata": {},
   "source": [
    "## Data Loading and Understanding"
   ]
  },
  {
   "cell_type": "code",
   "execution_count": 13,
   "metadata": {},
   "outputs": [],
   "source": [
    "# Importing the relevant Libraries\n",
    "import pandas as pd\n",
    "import sqlite3 as sqlite3\n",
    "import matplotlib.pyplot as plt\n",
    "%matplotlib inline"
   ]
  },
  {
   "cell_type": "code",
   "execution_count": 19,
   "metadata": {},
   "outputs": [],
   "source": [
    "# Load CSV datasets\n",
    "df1 = pd.read_csv('zippedData/bom.movie_gross.csv')\n",
    "df2 = pd.read_csv('zippedData/rt.movie_info.tsv', delimiter='\\t')\n",
    "df3 = pd.read_csv('zippedData/tn.movie_budgets.csv')\n",
    "\n",
    "# Load SQL database\n",
    "conn = sqlite3.connect('zippedData/im.zip')\n"
   ]
  },
  {
   "cell_type": "markdown",
   "metadata": {},
   "source": [
    "## Data Cleaning"
   ]
  },
  {
   "cell_type": "markdown",
   "metadata": {},
   "source": []
  }
 ],
 "metadata": {
  "kernelspec": {
   "display_name": "learn-env",
   "language": "python",
   "name": "python3"
  },
  "language_info": {
   "codemirror_mode": {
    "name": "ipython",
    "version": 3
   },
   "file_extension": ".py",
   "mimetype": "text/x-python",
   "name": "python",
   "nbconvert_exporter": "python",
   "pygments_lexer": "ipython3",
   "version": "3.8.5"
  }
 },
 "nbformat": 4,
 "nbformat_minor": 2
}
